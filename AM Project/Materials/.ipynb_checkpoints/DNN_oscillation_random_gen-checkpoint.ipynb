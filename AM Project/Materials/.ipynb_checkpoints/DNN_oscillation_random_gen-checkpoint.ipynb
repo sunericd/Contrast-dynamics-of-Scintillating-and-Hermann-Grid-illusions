{
 "cells": [
  {
   "cell_type": "code",
   "execution_count": 5,
   "metadata": {
    "collapsed": true
   },
   "outputs": [],
   "source": [
    "import random\n",
    "import csv"
   ]
  },
  {
   "cell_type": "code",
   "execution_count": 26,
   "metadata": {
    "collapsed": true
   },
   "outputs": [],
   "source": [
    "def gauss_dist_gen (csv_filename):\n",
    "    with open(csv_filename, 'rt') as csvfile:\n",
    "        diss_means = csv.reader(csvfile, delimiter = ',')\n",
    "        diss_means2 = []\n",
    "        \n",
    "        for diss in diss_means:\n",
    "            diss_means2.append(diss)\n",
    "            \n",
    "        fc8_means = diss_means2[-1]\n",
    "        fc8_means.pop(0)\n",
    "        fc8_means = list (map (float, fc8_means))\n",
    "        \n",
    "        random_means_list = []\n",
    "        random_means_list.append(fc8_means)\n",
    "        \n",
    "        i = 0\n",
    "        while i < 100:\n",
    "            random_means = []\n",
    "            \n",
    "            for mean in fc8_means:\n",
    "                rand_std = random.gauss(1, 1)\n",
    "                rand_mean = random.gauss(mean, rand_std)\n",
    "                random_means.append(rand_mean)\n",
    "            \n",
    "            random_means_list.append(random_means)\n",
    "\n",
    "            i += 1\n",
    "            \n",
    "    return (random_means_list)"
   ]
  },
  {
   "cell_type": "code",
   "execution_count": 27,
   "metadata": {
    "collapsed": false
   },
   "outputs": [],
   "source": [
    "list_o_random_means = gauss_dist_gen ('Test3_VGG19_transposed.csv')"
   ]
  },
  {
   "cell_type": "code",
   "execution_count": null,
   "metadata": {
    "collapsed": true
   },
   "outputs": [],
   "source": []
  }
 ],
 "metadata": {
  "anaconda-cloud": {},
  "kernelspec": {
   "display_name": "Python [default]",
   "language": "python",
   "name": "python3"
  },
  "language_info": {
   "codemirror_mode": {
    "name": "ipython",
    "version": 3
   },
   "file_extension": ".py",
   "mimetype": "text/x-python",
   "name": "python",
   "nbconvert_exporter": "python",
   "pygments_lexer": "ipython3",
   "version": "3.5.2"
  }
 },
 "nbformat": 4,
 "nbformat_minor": 1
}
